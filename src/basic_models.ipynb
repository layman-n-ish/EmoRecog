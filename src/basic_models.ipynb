{
 "cells": [
  {
   "cell_type": "code",
   "execution_count": 1,
   "metadata": {},
   "outputs": [
    {
     "data": {
      "text/html": [
       "<div>\n",
       "<style scoped>\n",
       "    .dataframe tbody tr th:only-of-type {\n",
       "        vertical-align: middle;\n",
       "    }\n",
       "\n",
       "    .dataframe tbody tr th {\n",
       "        vertical-align: top;\n",
       "    }\n",
       "\n",
       "    .dataframe thead th {\n",
       "        text-align: right;\n",
       "    }\n",
       "</style>\n",
       "<table border=\"1\" class=\"dataframe\">\n",
       "  <thead>\n",
       "    <tr style=\"text-align: right;\">\n",
       "      <th></th>\n",
       "      <th>0</th>\n",
       "      <th>1</th>\n",
       "      <th>2</th>\n",
       "      <th>3</th>\n",
       "      <th>4</th>\n",
       "      <th>5</th>\n",
       "      <th>6</th>\n",
       "      <th>7</th>\n",
       "      <th>8</th>\n",
       "      <th>9</th>\n",
       "      <th>...</th>\n",
       "      <th>98</th>\n",
       "      <th>99</th>\n",
       "      <th>100</th>\n",
       "      <th>101</th>\n",
       "      <th>102</th>\n",
       "      <th>103</th>\n",
       "      <th>104</th>\n",
       "      <th>105</th>\n",
       "      <th>106</th>\n",
       "      <th>107</th>\n",
       "    </tr>\n",
       "  </thead>\n",
       "  <tbody>\n",
       "    <tr>\n",
       "      <th>0</th>\n",
       "      <td>1.584365</td>\n",
       "      <td>1.272485</td>\n",
       "      <td>0.988015</td>\n",
       "      <td>0.751214</td>\n",
       "      <td>0.609820</td>\n",
       "      <td>0.573609</td>\n",
       "      <td>0.574218</td>\n",
       "      <td>0.615872</td>\n",
       "      <td>0.794080</td>\n",
       "      <td>0.844778</td>\n",
       "      <td>...</td>\n",
       "      <td>-0.000020</td>\n",
       "      <td>-0.000021</td>\n",
       "      <td>-0.000017</td>\n",
       "      <td>-0.000014</td>\n",
       "      <td>-0.000012</td>\n",
       "      <td>-0.000007</td>\n",
       "      <td>-0.000012</td>\n",
       "      <td>-0.000014</td>\n",
       "      <td>-0.000017</td>\n",
       "      <td>0</td>\n",
       "    </tr>\n",
       "    <tr>\n",
       "      <th>1</th>\n",
       "      <td>1.409659</td>\n",
       "      <td>1.117173</td>\n",
       "      <td>0.853609</td>\n",
       "      <td>0.681107</td>\n",
       "      <td>0.636211</td>\n",
       "      <td>0.667881</td>\n",
       "      <td>0.678643</td>\n",
       "      <td>0.713324</td>\n",
       "      <td>0.877467</td>\n",
       "      <td>0.818675</td>\n",
       "      <td>...</td>\n",
       "      <td>-0.000025</td>\n",
       "      <td>-0.000026</td>\n",
       "      <td>-0.000021</td>\n",
       "      <td>-0.000019</td>\n",
       "      <td>-0.000016</td>\n",
       "      <td>-0.000011</td>\n",
       "      <td>-0.000016</td>\n",
       "      <td>-0.000019</td>\n",
       "      <td>-0.000021</td>\n",
       "      <td>0</td>\n",
       "    </tr>\n",
       "    <tr>\n",
       "      <th>2</th>\n",
       "      <td>1.329236</td>\n",
       "      <td>1.025930</td>\n",
       "      <td>0.761888</td>\n",
       "      <td>0.553783</td>\n",
       "      <td>0.445773</td>\n",
       "      <td>0.477934</td>\n",
       "      <td>0.603255</td>\n",
       "      <td>0.762125</td>\n",
       "      <td>0.919404</td>\n",
       "      <td>0.904256</td>\n",
       "      <td>...</td>\n",
       "      <td>-0.000018</td>\n",
       "      <td>-0.000019</td>\n",
       "      <td>-0.000015</td>\n",
       "      <td>-0.000012</td>\n",
       "      <td>-0.000009</td>\n",
       "      <td>-0.000004</td>\n",
       "      <td>-0.000009</td>\n",
       "      <td>-0.000012</td>\n",
       "      <td>-0.000015</td>\n",
       "      <td>0</td>\n",
       "    </tr>\n",
       "    <tr>\n",
       "      <th>3</th>\n",
       "      <td>1.476426</td>\n",
       "      <td>1.168677</td>\n",
       "      <td>0.873097</td>\n",
       "      <td>0.623380</td>\n",
       "      <td>0.499781</td>\n",
       "      <td>0.502696</td>\n",
       "      <td>0.563287</td>\n",
       "      <td>0.671238</td>\n",
       "      <td>0.853291</td>\n",
       "      <td>0.841276</td>\n",
       "      <td>...</td>\n",
       "      <td>-0.000016</td>\n",
       "      <td>-0.000017</td>\n",
       "      <td>-0.000013</td>\n",
       "      <td>-0.000010</td>\n",
       "      <td>-0.000008</td>\n",
       "      <td>-0.000003</td>\n",
       "      <td>-0.000008</td>\n",
       "      <td>-0.000010</td>\n",
       "      <td>-0.000013</td>\n",
       "      <td>0</td>\n",
       "    </tr>\n",
       "    <tr>\n",
       "      <th>4</th>\n",
       "      <td>1.484198</td>\n",
       "      <td>1.190569</td>\n",
       "      <td>0.958220</td>\n",
       "      <td>0.791438</td>\n",
       "      <td>0.674521</td>\n",
       "      <td>0.632456</td>\n",
       "      <td>0.642288</td>\n",
       "      <td>0.741218</td>\n",
       "      <td>0.907273</td>\n",
       "      <td>0.895115</td>\n",
       "      <td>...</td>\n",
       "      <td>-0.000023</td>\n",
       "      <td>-0.000024</td>\n",
       "      <td>-0.000019</td>\n",
       "      <td>-0.000016</td>\n",
       "      <td>-0.000013</td>\n",
       "      <td>-0.000007</td>\n",
       "      <td>-0.000013</td>\n",
       "      <td>-0.000016</td>\n",
       "      <td>-0.000019</td>\n",
       "      <td>0</td>\n",
       "    </tr>\n",
       "  </tbody>\n",
       "</table>\n",
       "<p>5 rows × 108 columns</p>\n",
       "</div>"
      ],
      "text/plain": [
       "          0         1         2         3         4         5         6  \\\n",
       "0  1.584365  1.272485  0.988015  0.751214  0.609820  0.573609  0.574218   \n",
       "1  1.409659  1.117173  0.853609  0.681107  0.636211  0.667881  0.678643   \n",
       "2  1.329236  1.025930  0.761888  0.553783  0.445773  0.477934  0.603255   \n",
       "3  1.476426  1.168677  0.873097  0.623380  0.499781  0.502696  0.563287   \n",
       "4  1.484198  1.190569  0.958220  0.791438  0.674521  0.632456  0.642288   \n",
       "\n",
       "          7         8         9 ...         98        99       100       101  \\\n",
       "0  0.615872  0.794080  0.844778 ...  -0.000020 -0.000021 -0.000017 -0.000014   \n",
       "1  0.713324  0.877467  0.818675 ...  -0.000025 -0.000026 -0.000021 -0.000019   \n",
       "2  0.762125  0.919404  0.904256 ...  -0.000018 -0.000019 -0.000015 -0.000012   \n",
       "3  0.671238  0.853291  0.841276 ...  -0.000016 -0.000017 -0.000013 -0.000010   \n",
       "4  0.741218  0.907273  0.895115 ...  -0.000023 -0.000024 -0.000019 -0.000016   \n",
       "\n",
       "        102       103       104       105       106  107  \n",
       "0 -0.000012 -0.000007 -0.000012 -0.000014 -0.000017    0  \n",
       "1 -0.000016 -0.000011 -0.000016 -0.000019 -0.000021    0  \n",
       "2 -0.000009 -0.000004 -0.000009 -0.000012 -0.000015    0  \n",
       "3 -0.000008 -0.000003 -0.000008 -0.000010 -0.000013    0  \n",
       "4 -0.000013 -0.000007 -0.000013 -0.000016 -0.000019    0  \n",
       "\n",
       "[5 rows x 108 columns]"
      ]
     },
     "execution_count": 1,
     "metadata": {},
     "output_type": "execute_result"
    }
   ],
   "source": [
    "import pandas as pd\n",
    "import numpy as np\n",
    "import pandas as pd\n",
    "from sklearn.preprocessing import LabelEncoder\n",
    "from sklearn.model_selection import train_test_split\n",
    "from sklearn.linear_model import LogisticRegression\n",
    "from sklearn.ensemble import BaggingClassifier\n",
    "from sklearn import tree\n",
    "from sklearn.ensemble import BaggingClassifier\n",
    "from sklearn.ensemble import RandomForestClassifier\n",
    "from sklearn.ensemble import AdaBoostClassifier\n",
    "from sklearn.ensemble import GradientBoostingClassifier\n",
    "import xgboost as xgb\n",
    "import lightgbm as lgb\n",
    "# from catboost import CatBoostClassifier\n",
    "from sklearn.ensemble import VotingClassifier\n",
    "from sklearn import svm\n",
    "from sklearn.naive_bayes import GaussianNB\n",
    "from sklearn.metrics import accuracy_score\n",
    "from sklearn.model_selection import StratifiedKFold\n",
    "df = pd.read_csv(\"linear_features.csv\")\n",
    "# df.drop([\"Unname\"])\n",
    "# df.set_index(\"A\")\n",
    "df = df.drop(['A'],axis = 1)\n",
    "df.head()"
   ]
  },
  {
   "cell_type": "code",
   "execution_count": 2,
   "metadata": {},
   "outputs": [],
   "source": [
    "from xgboost import XGBClassifier\n",
    "from sklearn.model_selection import train_test_split\n",
    "from sklearn.metrics import accuracy_score"
   ]
  },
  {
   "cell_type": "code",
   "execution_count": 3,
   "metadata": {},
   "outputs": [],
   "source": [
    "X = df.drop(['107'], axis = 1)\n",
    "Y = df['107']"
   ]
  },
  {
   "cell_type": "code",
   "execution_count": 4,
   "metadata": {},
   "outputs": [
    {
     "data": {
      "text/html": [
       "<div>\n",
       "<style scoped>\n",
       "    .dataframe tbody tr th:only-of-type {\n",
       "        vertical-align: middle;\n",
       "    }\n",
       "\n",
       "    .dataframe tbody tr th {\n",
       "        vertical-align: top;\n",
       "    }\n",
       "\n",
       "    .dataframe thead th {\n",
       "        text-align: right;\n",
       "    }\n",
       "</style>\n",
       "<table border=\"1\" class=\"dataframe\">\n",
       "  <thead>\n",
       "    <tr style=\"text-align: right;\">\n",
       "      <th></th>\n",
       "      <th>0</th>\n",
       "      <th>1</th>\n",
       "      <th>2</th>\n",
       "      <th>3</th>\n",
       "      <th>4</th>\n",
       "      <th>5</th>\n",
       "      <th>6</th>\n",
       "      <th>7</th>\n",
       "      <th>8</th>\n",
       "      <th>9</th>\n",
       "      <th>...</th>\n",
       "      <th>97</th>\n",
       "      <th>98</th>\n",
       "      <th>99</th>\n",
       "      <th>100</th>\n",
       "      <th>101</th>\n",
       "      <th>102</th>\n",
       "      <th>103</th>\n",
       "      <th>104</th>\n",
       "      <th>105</th>\n",
       "      <th>106</th>\n",
       "    </tr>\n",
       "  </thead>\n",
       "  <tbody>\n",
       "    <tr>\n",
       "      <th>0</th>\n",
       "      <td>1.584365</td>\n",
       "      <td>1.272485</td>\n",
       "      <td>0.988015</td>\n",
       "      <td>0.751214</td>\n",
       "      <td>0.609820</td>\n",
       "      <td>0.573609</td>\n",
       "      <td>0.574218</td>\n",
       "      <td>0.615872</td>\n",
       "      <td>0.794080</td>\n",
       "      <td>0.844778</td>\n",
       "      <td>...</td>\n",
       "      <td>-0.000017</td>\n",
       "      <td>-0.000020</td>\n",
       "      <td>-0.000021</td>\n",
       "      <td>-0.000017</td>\n",
       "      <td>-0.000014</td>\n",
       "      <td>-0.000012</td>\n",
       "      <td>-0.000007</td>\n",
       "      <td>-0.000012</td>\n",
       "      <td>-0.000014</td>\n",
       "      <td>-0.000017</td>\n",
       "    </tr>\n",
       "    <tr>\n",
       "      <th>1</th>\n",
       "      <td>1.409659</td>\n",
       "      <td>1.117173</td>\n",
       "      <td>0.853609</td>\n",
       "      <td>0.681107</td>\n",
       "      <td>0.636211</td>\n",
       "      <td>0.667881</td>\n",
       "      <td>0.678643</td>\n",
       "      <td>0.713324</td>\n",
       "      <td>0.877467</td>\n",
       "      <td>0.818675</td>\n",
       "      <td>...</td>\n",
       "      <td>-0.000021</td>\n",
       "      <td>-0.000025</td>\n",
       "      <td>-0.000026</td>\n",
       "      <td>-0.000021</td>\n",
       "      <td>-0.000019</td>\n",
       "      <td>-0.000016</td>\n",
       "      <td>-0.000011</td>\n",
       "      <td>-0.000016</td>\n",
       "      <td>-0.000019</td>\n",
       "      <td>-0.000021</td>\n",
       "    </tr>\n",
       "    <tr>\n",
       "      <th>2</th>\n",
       "      <td>1.329236</td>\n",
       "      <td>1.025930</td>\n",
       "      <td>0.761888</td>\n",
       "      <td>0.553783</td>\n",
       "      <td>0.445773</td>\n",
       "      <td>0.477934</td>\n",
       "      <td>0.603255</td>\n",
       "      <td>0.762125</td>\n",
       "      <td>0.919404</td>\n",
       "      <td>0.904256</td>\n",
       "      <td>...</td>\n",
       "      <td>-0.000015</td>\n",
       "      <td>-0.000018</td>\n",
       "      <td>-0.000019</td>\n",
       "      <td>-0.000015</td>\n",
       "      <td>-0.000012</td>\n",
       "      <td>-0.000009</td>\n",
       "      <td>-0.000004</td>\n",
       "      <td>-0.000009</td>\n",
       "      <td>-0.000012</td>\n",
       "      <td>-0.000015</td>\n",
       "    </tr>\n",
       "    <tr>\n",
       "      <th>3</th>\n",
       "      <td>1.476426</td>\n",
       "      <td>1.168677</td>\n",
       "      <td>0.873097</td>\n",
       "      <td>0.623380</td>\n",
       "      <td>0.499781</td>\n",
       "      <td>0.502696</td>\n",
       "      <td>0.563287</td>\n",
       "      <td>0.671238</td>\n",
       "      <td>0.853291</td>\n",
       "      <td>0.841276</td>\n",
       "      <td>...</td>\n",
       "      <td>-0.000013</td>\n",
       "      <td>-0.000016</td>\n",
       "      <td>-0.000017</td>\n",
       "      <td>-0.000013</td>\n",
       "      <td>-0.000010</td>\n",
       "      <td>-0.000008</td>\n",
       "      <td>-0.000003</td>\n",
       "      <td>-0.000008</td>\n",
       "      <td>-0.000010</td>\n",
       "      <td>-0.000013</td>\n",
       "    </tr>\n",
       "    <tr>\n",
       "      <th>4</th>\n",
       "      <td>1.484198</td>\n",
       "      <td>1.190569</td>\n",
       "      <td>0.958220</td>\n",
       "      <td>0.791438</td>\n",
       "      <td>0.674521</td>\n",
       "      <td>0.632456</td>\n",
       "      <td>0.642288</td>\n",
       "      <td>0.741218</td>\n",
       "      <td>0.907273</td>\n",
       "      <td>0.895115</td>\n",
       "      <td>...</td>\n",
       "      <td>-0.000019</td>\n",
       "      <td>-0.000023</td>\n",
       "      <td>-0.000024</td>\n",
       "      <td>-0.000019</td>\n",
       "      <td>-0.000016</td>\n",
       "      <td>-0.000013</td>\n",
       "      <td>-0.000007</td>\n",
       "      <td>-0.000013</td>\n",
       "      <td>-0.000016</td>\n",
       "      <td>-0.000019</td>\n",
       "    </tr>\n",
       "  </tbody>\n",
       "</table>\n",
       "<p>5 rows × 107 columns</p>\n",
       "</div>"
      ],
      "text/plain": [
       "          0         1         2         3         4         5         6  \\\n",
       "0  1.584365  1.272485  0.988015  0.751214  0.609820  0.573609  0.574218   \n",
       "1  1.409659  1.117173  0.853609  0.681107  0.636211  0.667881  0.678643   \n",
       "2  1.329236  1.025930  0.761888  0.553783  0.445773  0.477934  0.603255   \n",
       "3  1.476426  1.168677  0.873097  0.623380  0.499781  0.502696  0.563287   \n",
       "4  1.484198  1.190569  0.958220  0.791438  0.674521  0.632456  0.642288   \n",
       "\n",
       "          7         8         9    ...           97        98        99  \\\n",
       "0  0.615872  0.794080  0.844778    ...    -0.000017 -0.000020 -0.000021   \n",
       "1  0.713324  0.877467  0.818675    ...    -0.000021 -0.000025 -0.000026   \n",
       "2  0.762125  0.919404  0.904256    ...    -0.000015 -0.000018 -0.000019   \n",
       "3  0.671238  0.853291  0.841276    ...    -0.000013 -0.000016 -0.000017   \n",
       "4  0.741218  0.907273  0.895115    ...    -0.000019 -0.000023 -0.000024   \n",
       "\n",
       "        100       101       102       103       104       105       106  \n",
       "0 -0.000017 -0.000014 -0.000012 -0.000007 -0.000012 -0.000014 -0.000017  \n",
       "1 -0.000021 -0.000019 -0.000016 -0.000011 -0.000016 -0.000019 -0.000021  \n",
       "2 -0.000015 -0.000012 -0.000009 -0.000004 -0.000009 -0.000012 -0.000015  \n",
       "3 -0.000013 -0.000010 -0.000008 -0.000003 -0.000008 -0.000010 -0.000013  \n",
       "4 -0.000019 -0.000016 -0.000013 -0.000007 -0.000013 -0.000016 -0.000019  \n",
       "\n",
       "[5 rows x 107 columns]"
      ]
     },
     "execution_count": 4,
     "metadata": {},
     "output_type": "execute_result"
    }
   ],
   "source": [
    "X.head()"
   ]
  },
  {
   "cell_type": "code",
   "execution_count": 5,
   "metadata": {},
   "outputs": [
    {
     "data": {
      "text/plain": [
       "0    0\n",
       "1    0\n",
       "2    0\n",
       "3    0\n",
       "4    0\n",
       "Name: 107, dtype: int64"
      ]
     },
     "execution_count": 5,
     "metadata": {},
     "output_type": "execute_result"
    }
   ],
   "source": [
    "Y.head()"
   ]
  },
  {
   "cell_type": "code",
   "execution_count": 6,
   "metadata": {},
   "outputs": [],
   "source": [
    "# seed = 7\n",
    "# test_size = 0.99\n",
    "# X_train, X_test, y_train, y_test = train_test_split(X, Y, test_size=test_size, random_state=seed, stratify = Y)"
   ]
  },
  {
   "cell_type": "code",
   "execution_count": 7,
   "metadata": {},
   "outputs": [
    {
     "data": {
      "text/plain": [
       "XGBClassifier(base_score=0.5, booster='gbtree', colsample_bylevel=1,\n",
       "       colsample_bytree=1, gamma=0, learning_rate=0.1, max_delta_step=0,\n",
       "       max_depth=3, min_child_weight=1, missing=None, n_estimators=100,\n",
       "       n_jobs=1, nthread=None, objective='multi:softprob', random_state=0,\n",
       "       reg_alpha=0, reg_lambda=1, scale_pos_weight=1, seed=None,\n",
       "       silent=True, subsample=1)"
      ]
     },
     "execution_count": 7,
     "metadata": {},
     "output_type": "execute_result"
    }
   ],
   "source": [
    "# fit model no training data\n",
    "model = XGBClassifier()\n",
    "model.fit(X, Y)"
   ]
  },
  {
   "cell_type": "code",
   "execution_count": 8,
   "metadata": {},
   "outputs": [
    {
     "data": {
      "text/html": [
       "<div>\n",
       "<style scoped>\n",
       "    .dataframe tbody tr th:only-of-type {\n",
       "        vertical-align: middle;\n",
       "    }\n",
       "\n",
       "    .dataframe tbody tr th {\n",
       "        vertical-align: top;\n",
       "    }\n",
       "\n",
       "    .dataframe thead th {\n",
       "        text-align: right;\n",
       "    }\n",
       "</style>\n",
       "<table border=\"1\" class=\"dataframe\">\n",
       "  <thead>\n",
       "    <tr style=\"text-align: right;\">\n",
       "      <th></th>\n",
       "      <th>0</th>\n",
       "      <th>1</th>\n",
       "      <th>2</th>\n",
       "      <th>3</th>\n",
       "      <th>4</th>\n",
       "      <th>5</th>\n",
       "      <th>6</th>\n",
       "      <th>7</th>\n",
       "      <th>8</th>\n",
       "      <th>9</th>\n",
       "      <th>...</th>\n",
       "      <th>98</th>\n",
       "      <th>99</th>\n",
       "      <th>100</th>\n",
       "      <th>101</th>\n",
       "      <th>102</th>\n",
       "      <th>103</th>\n",
       "      <th>104</th>\n",
       "      <th>105</th>\n",
       "      <th>106</th>\n",
       "      <th>107</th>\n",
       "    </tr>\n",
       "  </thead>\n",
       "  <tbody>\n",
       "    <tr>\n",
       "      <th>0</th>\n",
       "      <td>1.530304</td>\n",
       "      <td>1.241446</td>\n",
       "      <td>0.942966</td>\n",
       "      <td>0.649896</td>\n",
       "      <td>0.432142</td>\n",
       "      <td>0.386734</td>\n",
       "      <td>0.480547</td>\n",
       "      <td>0.639331</td>\n",
       "      <td>0.855722</td>\n",
       "      <td>0.738962</td>\n",
       "      <td>...</td>\n",
       "      <td>-0.000018</td>\n",
       "      <td>-0.000019</td>\n",
       "      <td>-0.000016</td>\n",
       "      <td>-0.000014</td>\n",
       "      <td>-0.000012</td>\n",
       "      <td>-0.000006</td>\n",
       "      <td>-0.000011</td>\n",
       "      <td>-0.000014</td>\n",
       "      <td>-0.000016</td>\n",
       "      <td>0</td>\n",
       "    </tr>\n",
       "    <tr>\n",
       "      <th>1</th>\n",
       "      <td>1.691218</td>\n",
       "      <td>1.388767</td>\n",
       "      <td>1.093530</td>\n",
       "      <td>0.846527</td>\n",
       "      <td>0.648924</td>\n",
       "      <td>0.467718</td>\n",
       "      <td>0.423358</td>\n",
       "      <td>0.508926</td>\n",
       "      <td>0.744601</td>\n",
       "      <td>0.626492</td>\n",
       "      <td>...</td>\n",
       "      <td>-0.000015</td>\n",
       "      <td>-0.000016</td>\n",
       "      <td>-0.000012</td>\n",
       "      <td>-0.000010</td>\n",
       "      <td>-0.000008</td>\n",
       "      <td>-0.000004</td>\n",
       "      <td>-0.000008</td>\n",
       "      <td>-0.000010</td>\n",
       "      <td>-0.000012</td>\n",
       "      <td>0</td>\n",
       "    </tr>\n",
       "    <tr>\n",
       "      <th>2</th>\n",
       "      <td>1.173903</td>\n",
       "      <td>0.931774</td>\n",
       "      <td>0.690698</td>\n",
       "      <td>0.481708</td>\n",
       "      <td>0.388927</td>\n",
       "      <td>0.487251</td>\n",
       "      <td>0.656141</td>\n",
       "      <td>0.853107</td>\n",
       "      <td>1.024209</td>\n",
       "      <td>1.043794</td>\n",
       "      <td>...</td>\n",
       "      <td>-0.000014</td>\n",
       "      <td>-0.000015</td>\n",
       "      <td>-0.000012</td>\n",
       "      <td>-0.000009</td>\n",
       "      <td>-0.000006</td>\n",
       "      <td>0.000002</td>\n",
       "      <td>-0.000006</td>\n",
       "      <td>-0.000009</td>\n",
       "      <td>-0.000012</td>\n",
       "      <td>0</td>\n",
       "    </tr>\n",
       "    <tr>\n",
       "      <th>3</th>\n",
       "      <td>1.797167</td>\n",
       "      <td>1.519267</td>\n",
       "      <td>1.288143</td>\n",
       "      <td>1.143166</td>\n",
       "      <td>1.041716</td>\n",
       "      <td>0.920804</td>\n",
       "      <td>0.787881</td>\n",
       "      <td>0.776724</td>\n",
       "      <td>0.909327</td>\n",
       "      <td>0.949371</td>\n",
       "      <td>...</td>\n",
       "      <td>-0.000036</td>\n",
       "      <td>-0.000038</td>\n",
       "      <td>-0.000032</td>\n",
       "      <td>-0.000030</td>\n",
       "      <td>-0.000028</td>\n",
       "      <td>-0.000024</td>\n",
       "      <td>-0.000028</td>\n",
       "      <td>-0.000030</td>\n",
       "      <td>-0.000032</td>\n",
       "      <td>0</td>\n",
       "    </tr>\n",
       "    <tr>\n",
       "      <th>4</th>\n",
       "      <td>1.563453</td>\n",
       "      <td>1.266290</td>\n",
       "      <td>0.962966</td>\n",
       "      <td>0.635600</td>\n",
       "      <td>0.331946</td>\n",
       "      <td>0.229010</td>\n",
       "      <td>0.464102</td>\n",
       "      <td>0.749424</td>\n",
       "      <td>0.929546</td>\n",
       "      <td>0.893835</td>\n",
       "      <td>...</td>\n",
       "      <td>-0.000018</td>\n",
       "      <td>-0.000019</td>\n",
       "      <td>-0.000016</td>\n",
       "      <td>-0.000014</td>\n",
       "      <td>-0.000011</td>\n",
       "      <td>-0.000005</td>\n",
       "      <td>-0.000011</td>\n",
       "      <td>-0.000014</td>\n",
       "      <td>-0.000016</td>\n",
       "      <td>0</td>\n",
       "    </tr>\n",
       "  </tbody>\n",
       "</table>\n",
       "<p>5 rows × 108 columns</p>\n",
       "</div>"
      ],
      "text/plain": [
       "          0         1         2         3         4         5         6  \\\n",
       "0  1.530304  1.241446  0.942966  0.649896  0.432142  0.386734  0.480547   \n",
       "1  1.691218  1.388767  1.093530  0.846527  0.648924  0.467718  0.423358   \n",
       "2  1.173903  0.931774  0.690698  0.481708  0.388927  0.487251  0.656141   \n",
       "3  1.797167  1.519267  1.288143  1.143166  1.041716  0.920804  0.787881   \n",
       "4  1.563453  1.266290  0.962966  0.635600  0.331946  0.229010  0.464102   \n",
       "\n",
       "          7         8         9 ...         98        99       100       101  \\\n",
       "0  0.639331  0.855722  0.738962 ...  -0.000018 -0.000019 -0.000016 -0.000014   \n",
       "1  0.508926  0.744601  0.626492 ...  -0.000015 -0.000016 -0.000012 -0.000010   \n",
       "2  0.853107  1.024209  1.043794 ...  -0.000014 -0.000015 -0.000012 -0.000009   \n",
       "3  0.776724  0.909327  0.949371 ...  -0.000036 -0.000038 -0.000032 -0.000030   \n",
       "4  0.749424  0.929546  0.893835 ...  -0.000018 -0.000019 -0.000016 -0.000014   \n",
       "\n",
       "        102       103       104       105       106  107  \n",
       "0 -0.000012 -0.000006 -0.000011 -0.000014 -0.000016    0  \n",
       "1 -0.000008 -0.000004 -0.000008 -0.000010 -0.000012    0  \n",
       "2 -0.000006  0.000002 -0.000006 -0.000009 -0.000012    0  \n",
       "3 -0.000028 -0.000024 -0.000028 -0.000030 -0.000032    0  \n",
       "4 -0.000011 -0.000005 -0.000011 -0.000014 -0.000016    0  \n",
       "\n",
       "[5 rows x 108 columns]"
      ]
     },
     "execution_count": 8,
     "metadata": {},
     "output_type": "execute_result"
    }
   ],
   "source": [
    "cols = [0]\n",
    "# df.drop(df.columns[cols],axis=1,inplace=True)\n",
    "\n",
    "test = pd.read_csv(\"rorated_test.csv\")\n",
    "test.drop(test.columns[cols],axis = 1,inplace = True)\n",
    "test.head()"
   ]
  },
  {
   "cell_type": "code",
   "execution_count": 9,
   "metadata": {},
   "outputs": [],
   "source": [
    "y_test = test['107']\n",
    "X_test = test.drop(['107'], axis = 1)\n",
    "y_pred = model.predict(X_test)"
   ]
  },
  {
   "cell_type": "code",
   "execution_count": 10,
   "metadata": {},
   "outputs": [
    {
     "name": "stdout",
     "output_type": "stream",
     "text": [
      "Accuracy: 36.36%\n"
     ]
    }
   ],
   "source": [
    "accuracy = accuracy_score(y_test, y_pred)\n",
    "print(\"Accuracy: %.2f%%\" % (accuracy * 100.0))"
   ]
  },
  {
   "cell_type": "code",
   "execution_count": 11,
   "metadata": {},
   "outputs": [
    {
     "data": {
      "text/plain": [
       "<Figure size 640x480 with 1 Axes>"
      ]
     },
     "metadata": {},
     "output_type": "display_data"
    }
   ],
   "source": [
    "from matplotlib import pyplot\n",
    "pyplot.bar(range(len(model.feature_importances_)), model.feature_importances_)\n",
    "pyplot.show()"
   ]
  },
  {
   "cell_type": "code",
   "execution_count": 12,
   "metadata": {},
   "outputs": [
    {
     "data": {
      "text/plain": [
       "0.32575757575757575"
      ]
     },
     "execution_count": 12,
     "metadata": {},
     "output_type": "execute_result"
    }
   ],
   "source": [
    "model = LogisticRegression(random_state=1)\n",
    "model.fit(X,Y)\n",
    "model.score(X_test, y_test)"
   ]
  },
  {
   "cell_type": "code",
   "execution_count": 13,
   "metadata": {},
   "outputs": [
    {
     "data": {
      "text/plain": [
       "0.31060606060606061"
      ]
     },
     "execution_count": 13,
     "metadata": {},
     "output_type": "execute_result"
    }
   ],
   "source": [
    "model = GaussianNB()\n",
    "model.fit(X,Y)\n",
    "model.score(X_test,y_test)"
   ]
  },
  {
   "cell_type": "code",
   "execution_count": 14,
   "metadata": {},
   "outputs": [
    {
     "data": {
      "text/plain": [
       "0.25"
      ]
     },
     "execution_count": 14,
     "metadata": {},
     "output_type": "execute_result"
    }
   ],
   "source": [
    "model = svm.SVC()\n",
    "model.fit(X,Y)\n",
    "model.score(X_test, y_test)"
   ]
  },
  {
   "cell_type": "code",
   "execution_count": 15,
   "metadata": {},
   "outputs": [
    {
     "data": {
      "text/plain": [
       "0.27272727272727271"
      ]
     },
     "execution_count": 15,
     "metadata": {},
     "output_type": "execute_result"
    }
   ],
   "source": [
    "model = tree.DecisionTreeClassifier(random_state=1)\n",
    "model.fit(X,Y)\n",
    "model.score(X_test, y_test)"
   ]
  },
  {
   "cell_type": "code",
   "execution_count": 16,
   "metadata": {},
   "outputs": [
    {
     "data": {
      "text/plain": [
       "0.2878787878787879"
      ]
     },
     "execution_count": 16,
     "metadata": {},
     "output_type": "execute_result"
    }
   ],
   "source": [
    "model = BaggingClassifier(tree.DecisionTreeClassifier(random_state=1))\n",
    "model.fit(X,Y)\n",
    "model.score(X_test,y_test)"
   ]
  },
  {
   "cell_type": "code",
   "execution_count": 17,
   "metadata": {},
   "outputs": [
    {
     "data": {
      "text/plain": [
       "0.26515151515151514"
      ]
     },
     "execution_count": 17,
     "metadata": {},
     "output_type": "execute_result"
    }
   ],
   "source": [
    "model= RandomForestClassifier(random_state=1)\n",
    "model.fit(X,Y)\n",
    "model.score(X_test,y_test)"
   ]
  },
  {
   "cell_type": "code",
   "execution_count": 18,
   "metadata": {},
   "outputs": [
    {
     "data": {
      "text/plain": [
       "0.25757575757575757"
      ]
     },
     "execution_count": 18,
     "metadata": {},
     "output_type": "execute_result"
    }
   ],
   "source": [
    "model = AdaBoostClassifier(random_state=1)\n",
    "model.fit(X,Y)\n",
    "model.score(X_test,y_test)"
   ]
  },
  {
   "cell_type": "code",
   "execution_count": 19,
   "metadata": {},
   "outputs": [
    {
     "data": {
      "text/plain": [
       "0.35606060606060608"
      ]
     },
     "execution_count": 19,
     "metadata": {},
     "output_type": "execute_result"
    }
   ],
   "source": [
    "model= GradientBoostingClassifier(learning_rate=0.01,random_state=1)\n",
    "model.fit(X,Y)\n",
    "model.score(X_test,y_test)"
   ]
  },
  {
   "cell_type": "code",
   "execution_count": 20,
   "metadata": {},
   "outputs": [
    {
     "data": {
      "text/plain": [
       "0.34848484848484851"
      ]
     },
     "execution_count": 20,
     "metadata": {},
     "output_type": "execute_result"
    }
   ],
   "source": [
    "model=xgb.XGBClassifier(random_state=1,learning_rate=0.01)\n",
    "model.fit(X,Y)\n",
    "model.score(X_test,y_test)"
   ]
  },
  {
   "cell_type": "code",
   "execution_count": 21,
   "metadata": {},
   "outputs": [
    {
     "data": {
      "text/plain": [
       "0.31818181818181818"
      ]
     },
     "execution_count": 21,
     "metadata": {},
     "output_type": "execute_result"
    }
   ],
   "source": [
    "model1 = LogisticRegression(random_state=1)\n",
    "model2 = tree.DecisionTreeClassifier(random_state=1)\n",
    "model3 = GaussianNB()\n",
    "model = VotingClassifier(estimators=[('lr', model1), ('dt', model2), ('NB', model3)])\n",
    "model.fit(X,Y)\n",
    "model.score(X_test,y_test)"
   ]
  },
  {
   "cell_type": "code",
   "execution_count": null,
   "metadata": {},
   "outputs": [],
   "source": []
  }
 ],
 "metadata": {
  "kernelspec": {
   "display_name": "Python 3",
   "language": "python",
   "name": "python3"
  },
  "language_info": {
   "codemirror_mode": {
    "name": "ipython",
    "version": 3
   },
   "file_extension": ".py",
   "mimetype": "text/x-python",
   "name": "python",
   "nbconvert_exporter": "python",
   "pygments_lexer": "ipython3",
   "version": "3.5.5"
  }
 },
 "nbformat": 4,
 "nbformat_minor": 2
}
